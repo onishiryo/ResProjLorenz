{
  "cells": [
    {
      "cell_type": "markdown",
      "metadata": {
        "id": "view-in-github",
        "colab_type": "text"
      },
      "source": [
        "<a href=\"https://colab.research.google.com/github/onishiryo/ResProjLorenz/blob/main/lorenz63_3Dplot.ipynb\" target=\"_parent\"><img src=\"https://colab.research.google.com/assets/colab-badge.svg\" alt=\"Open In Colab\"/></a>"
      ]
    },
    {
      "cell_type": "markdown",
      "source": [
        "================\n",
        "Lorenz Chaos\n",
        "================\n",
        "Edward N. Lorenz(1963), `\"Deterministic Nonperiodic Flow\"\n",
        "https://doi.org/10.1175/1520-0469(1963)020%3C0130:DNF%3E2.0.CO;2"
      ],
      "metadata": {
        "id": "fdcz5AVD3gYx"
      }
    },
    {
      "cell_type": "code",
      "source": [
        "from google.colab import drive\n",
        "drive.mount('/content/drive')"
      ],
      "metadata": {
        "id": "WIOQFW3LJpUl",
        "outputId": "4e95381c-4743-458c-dc45-42232632a934",
        "colab": {
          "base_uri": "https://localhost:8080/"
        }
      },
      "execution_count": 1,
      "outputs": [
        {
          "output_type": "stream",
          "name": "stdout",
          "text": [
            "Mounted at /content/drive\n"
          ]
        }
      ]
    },
    {
      "cell_type": "markdown",
      "source": [
        "まずは必要なライブラリをimportしておく"
      ],
      "metadata": {
        "id": "qaSG-V1JBB3I"
      }
    },
    {
      "cell_type": "code",
      "source": [
        "import numpy as np\n",
        "import os\n",
        "import matplotlib.pyplot as plt\n",
        "from mpl_toolkits.mplot3d import Axes3D  # for projection='3d'"
      ],
      "metadata": {
        "id": "5mcKD1-44DeF"
      },
      "execution_count": 2,
      "outputs": []
    },
    {
      "cell_type": "markdown",
      "source": [
        "# Lorenz 63 model\n",
        "$$\n",
        "\\left\\{\n",
        "\\begin{array}{lcl}\n",
        "    \\frac{dx}{dt} &=& \\sigma (y-x) \\\\\n",
        "    \\frac{dy}{dt} &=& x(\\rho -z) -y \\\\\n",
        "    \\frac{dz}{dt} &=& xy -\\beta z\n",
        "\\end{array}\n",
        "\\right.\n",
        "$$\n",
        "$$ \\sigma=10, \\rho=28, \\beta=8/3 $$"
      ],
      "metadata": {
        "id": "1xJICkzo939z"
      }
    },
    {
      "cell_type": "code",
      "source": [
        "def lorenz_dot(x,y,z):\n",
        "    '''\n",
        "    Given:\n",
        "       (x,y,z)\n",
        "    Defined:\n",
        "       (s, r, b: parameters for the lorenz system)\n",
        "    Returns:\n",
        "       (dx/dt,dy/dt,dz/dt): temporal derivatives\n",
        "    '''\n",
        "\n",
        "# parameters for lorenz system\n",
        "    s= 10.0; r= 28.0; b= 8.0/3 \n",
        "\n",
        "    dxdt= s*(y - x)\n",
        "    dydt= x*(r - z)\n",
        "    dzdt= x*y - b*z\n",
        "    #\n",
        "    return dxdt,dydt,dzdt"
      ],
      "metadata": {
        "id": "X87Ev5ep93Op"
      },
      "execution_count": 3,
      "outputs": []
    },
    {
      "cell_type": "code",
      "source": [
        "def lorenz_system_integrate(t, x0,y0,z0):\n",
        "    # integration of ( nonlinear ) lorenz system with RK2\n",
        "    #\n",
        "    nstep= len(t)\n",
        "    dt= t[1]-t[0] #time interval, dt\n",
        "    xt, yt, zt= np.zeros([nstep]), np.zeros([nstep]), np.zeros([nstep]) #zero set\n",
        "    xt[0], yt[0], zt[0] = x0, y0, z0\n",
        "    for n in range(nstep-1): #0,1,2,,,nstep-2\n",
        "        #RK first step\n",
        "        dxdt,dydt,dzdt= lorenz_dot(xt[n],yt[n],zt[n])\n",
        "        xtm, ytm, ztm = xt[n]+dxdt*dt*0.5, yt[n]+dydt*dt*0.5, zt[n]+dzdt*dt*0.5\n",
        "        #RK second step\n",
        "        dxdt,dydt,dzdt= lorenz_dot(xtm,ytm,ztm)\n",
        "        xt[n+1], yt[n+1], zt[n+1]= xt[n]+dxdt*dt, yt[n]+dydt*dt, zt[n]+dzdt*dt;        \n",
        "    #\n",
        "    print(\"final n =\",n)\n",
        "    return xt,yt,zt"
      ],
      "metadata": {
        "id": "zmeNgeJ83umW"
      },
      "execution_count": 4,
      "outputs": []
    },
    {
      "cell_type": "markdown",
      "source": [
        "# 初期位置(x0,y0,z0)を設定する。\n",
        "- [ToDo 1] 初期位置を変えてみよう"
      ],
      "metadata": {
        "id": "GefH31eDBz-N"
      }
    },
    {
      "cell_type": "code",
      "source": [
        "# Set initial values for lorenz system\n",
        "t0= 0.0\n",
        "#x0= -1.34; y0= -1.34; z0= 18.1 #(x0,y0,z0)\n",
        "x0= -1.34001; y0= -1.34; z0= 18.1 #(x0,y0,z0)\n",
        "\n",
        "print(\"initial value(x0,y0,z0) =\",x0,y0,z0)"
      ],
      "metadata": {
        "id": "64bS0_d148sG",
        "outputId": "098f2187-a16d-4082-c12e-13f72d4d7b24",
        "colab": {
          "base_uri": "https://localhost:8080/"
        }
      },
      "execution_count": 49,
      "outputs": [
        {
          "output_type": "stream",
          "name": "stdout",
          "text": [
            "initial value(x0,y0,z0) = -1.34001 -1.34 18.1\n"
          ]
        }
      ]
    },
    {
      "cell_type": "markdown",
      "source": [
        "# 計算時間の設定\n",
        "- [Todo 2] 計算時間Tendを変更しよう"
      ],
      "metadata": {
        "id": "pb3TkuvWgIqB"
      }
    },
    {
      "cell_type": "code",
      "source": [
        "# time setting\n",
        "Tend= 10.0                   #end time\n",
        "dt= 1.0e-5                   #time interval\n",
        "nstep= int((Tend-t0)/dt+0.5) #number of time steps     \n",
        "t= t0 + np.arange(0, nstep, 1)*dt #t[0:nstep]\n",
        "print(\"Tend = \",Tend)\n",
        "print(\"number of steps = \",nstep)"
      ],
      "metadata": {
        "id": "2cebNNz_41ii",
        "outputId": "7e042648-861a-4e1f-a561-afafdd2400fc",
        "colab": {
          "base_uri": "https://localhost:8080/"
        }
      },
      "execution_count": 50,
      "outputs": [
        {
          "output_type": "stream",
          "name": "stdout",
          "text": [
            "Tend =  10.0\n",
            "number of steps =  1000000\n"
          ]
        }
      ]
    },
    {
      "cell_type": "code",
      "source": [
        "# calculate temporal evolution of position\n",
        "xt,yt,zt = lorenz_system_integrate(t, x0,y0,z0)\n",
        "print(\"Lorenz63 solved!\")\n",
        "print(\"final x position is \",xt[nstep-1])"
      ],
      "metadata": {
        "id": "ikWDeVZS5M-X",
        "outputId": "88a451a8-f3ce-40a1-bb55-8222b1b1d73e",
        "colab": {
          "base_uri": "https://localhost:8080/"
        }
      },
      "execution_count": 51,
      "outputs": [
        {
          "output_type": "stream",
          "name": "stdout",
          "text": [
            "final n = 999998\n",
            "Lorenz63 solved!\n",
            "final x position is  -3.897222162076178\n"
          ]
        }
      ]
    },
    {
      "cell_type": "markdown",
      "source": [
        "| dt   |   x  |\n",
        "| ---- | ---- |\n",
        "| 1e-2 | -9.853999637185208 |\n",
        "| 1e-3 | -4.148700518255394 |\n",
        "| 1e-4 | -3.9364866274388066 |\n",
        "| 1e-5 | -3.931420186413808 |\n",
        "| 1e-6 | -3.930991052926973 |\n",
        "| 1e-5(but with x0+0.00001) | -3.897222162076178 | \n",
        "| 1e-5(but with x0+0.0001) | -3.6892108728289075 | \n",
        "| 1e-5(but with x0+0.001) | -6.301670988322143 |\n",
        "| 1e-5(but with x0+0.01) | 3.985450724142571 | \n",
        "\n",
        "\n"
      ],
      "metadata": {
        "id": "GVMIdL8CFVWB"
      }
    },
    {
      "cell_type": "code",
      "source": [
        "print(\"nstep=\",nstep)\n",
        "#nstep should be \"final n\"+2"
      ],
      "metadata": {
        "id": "vbIV6RaC6OeF",
        "outputId": "54d25ebc-fc89-41d7-ac47-8c64cce2570b",
        "colab": {
          "base_uri": "https://localhost:8080/"
        }
      },
      "execution_count": 8,
      "outputs": [
        {
          "output_type": "stream",
          "name": "stdout",
          "text": [
            "nstep= 1000\n"
          ]
        }
      ]
    },
    {
      "cell_type": "code",
      "source": [
        "#print(\"xt=\",xt)"
      ],
      "metadata": {
        "id": "8VQm-O_86Tbk",
        "colab": {
          "base_uri": "https://localhost:8080/"
        },
        "outputId": "e71c4ed9-e165-4f11-98a5-2ffa7c92d39c"
      },
      "execution_count": 9,
      "outputs": [
        {
          "output_type": "stream",
          "name": "stdout",
          "text": [
            "xt= [-1.34000000e+00 -1.34006633e+00 -1.34026462e+00 -1.34059420e+00\n",
            " -1.34105440e+00 -1.34164458e+00 -1.34236413e+00 -1.34321244e+00\n",
            " -1.34418892e+00 -1.34529301e+00 -1.34652415e+00 -1.34788180e+00\n",
            " -1.34936547e+00 -1.35097464e+00 -1.35270883e+00 -1.35456759e+00\n",
            " -1.35655046e+00 -1.35865703e+00 -1.36088687e+00 -1.36323959e+00\n",
            " -1.36571482e+00 -1.36831219e+00 -1.37103137e+00 -1.37387203e+00\n",
            " -1.37683386e+00 -1.37991656e+00 -1.38311986e+00 -1.38644351e+00\n",
            " -1.38988726e+00 -1.39345088e+00 -1.39713417e+00 -1.40093693e+00\n",
            " -1.40485898e+00 -1.40890018e+00 -1.41306037e+00 -1.41733943e+00\n",
            " -1.42173725e+00 -1.42625373e+00 -1.43088880e+00 -1.43564238e+00\n",
            " -1.44051445e+00 -1.44550496e+00 -1.45061390e+00 -1.45584128e+00\n",
            " -1.46118710e+00 -1.46665142e+00 -1.47223427e+00 -1.47793572e+00\n",
            " -1.48375585e+00 -1.48969476e+00 -1.49575256e+00 -1.50192937e+00\n",
            " -1.50822536e+00 -1.51464066e+00 -1.52117546e+00 -1.52782994e+00\n",
            " -1.53460432e+00 -1.54149882e+00 -1.54851366e+00 -1.55564911e+00\n",
            " -1.56290543e+00 -1.57028291e+00 -1.57778184e+00 -1.58540253e+00\n",
            " -1.59314533e+00 -1.60101056e+00 -1.60899860e+00 -1.61710981e+00\n",
            " -1.62534460e+00 -1.63370335e+00 -1.64218650e+00 -1.65079448e+00\n",
            " -1.65952774e+00 -1.66838675e+00 -1.67737200e+00 -1.68648397e+00\n",
            " -1.69572318e+00 -1.70509017e+00 -1.71458547e+00 -1.72420963e+00\n",
            " -1.73396324e+00 -1.74384689e+00 -1.75386117e+00 -1.76400671e+00\n",
            " -1.77428414e+00 -1.78469411e+00 -1.79523729e+00 -1.80591435e+00\n",
            " -1.81672600e+00 -1.82767294e+00 -1.83875589e+00 -1.84997561e+00\n",
            " -1.86133284e+00 -1.87282836e+00 -1.88446296e+00 -1.89623744e+00\n",
            " -1.90815261e+00 -1.92020932e+00 -1.93240840e+00 -1.94475073e+00\n",
            " -1.95723718e+00 -1.96986865e+00 -1.98264605e+00 -1.99557031e+00\n",
            " -2.00864236e+00 -2.02186317e+00 -2.03523370e+00 -2.04875495e+00\n",
            " -2.06242791e+00 -2.07625362e+00 -2.09023310e+00 -2.10436740e+00\n",
            " -2.11865759e+00 -2.13310476e+00 -2.14770999e+00 -2.16247441e+00\n",
            " -2.17739914e+00 -2.19248533e+00 -2.20773414e+00 -2.22314674e+00\n",
            " -2.23872433e+00 -2.25446812e+00 -2.27037933e+00 -2.28645920e+00\n",
            " -2.30270898e+00 -2.31912995e+00 -2.33572340e+00 -2.35249062e+00\n",
            " -2.36943295e+00 -2.38655171e+00 -2.40384826e+00 -2.42132396e+00\n",
            " -2.43898020e+00 -2.45681838e+00 -2.47483992e+00 -2.49304624e+00\n",
            " -2.51143879e+00 -2.53001904e+00 -2.54878847e+00 -2.56774858e+00\n",
            " -2.58690087e+00 -2.60624687e+00 -2.62578814e+00 -2.64552622e+00\n",
            " -2.66546270e+00 -2.68559917e+00 -2.70593724e+00 -2.72647853e+00\n",
            " -2.74722468e+00 -2.76817735e+00 -2.78933820e+00 -2.81070894e+00\n",
            " -2.83229126e+00 -2.85408688e+00 -2.87609754e+00 -2.89832499e+00\n",
            " -2.92077099e+00 -2.94343733e+00 -2.96632581e+00 -2.98943824e+00\n",
            " -3.01277645e+00 -3.03634228e+00 -3.06013760e+00 -3.08416427e+00\n",
            " -3.10842419e+00 -3.13291926e+00 -3.15765140e+00 -3.18262256e+00\n",
            " -3.20783466e+00 -3.23328969e+00 -3.25898962e+00 -3.28493643e+00\n",
            " -3.31113214e+00 -3.33757877e+00 -3.36427836e+00 -3.39123294e+00\n",
            " -3.41844458e+00 -3.44591536e+00 -3.47364736e+00 -3.50164269e+00\n",
            " -3.52990346e+00 -3.55843179e+00 -3.58722982e+00 -3.61629971e+00\n",
            " -3.64564360e+00 -3.67526369e+00 -3.70516215e+00 -3.73534117e+00\n",
            " -3.76580297e+00 -3.79654976e+00 -3.82758376e+00 -3.85890721e+00\n",
            " -3.89052235e+00 -3.92243145e+00 -3.95463675e+00 -3.98714054e+00\n",
            " -4.01994508e+00 -4.05305267e+00 -4.08646559e+00 -4.12018614e+00\n",
            " -4.15421663e+00 -4.18855937e+00 -4.22321666e+00 -4.25819082e+00\n",
            " -4.29348418e+00 -4.32909907e+00 -4.36503780e+00 -4.40130270e+00\n",
            " -4.43789612e+00 -4.47482036e+00 -4.51207777e+00 -4.54967068e+00\n",
            " -4.58760140e+00 -4.62587227e+00 -4.66448561e+00 -4.70344372e+00\n",
            " -4.74274894e+00 -4.78240355e+00 -4.82240987e+00 -4.86277017e+00\n",
            " -4.90348676e+00 -4.94456188e+00 -4.98599783e+00 -5.02779683e+00\n",
            " -5.06996113e+00 -5.11249295e+00 -5.15539451e+00 -5.19866799e+00\n",
            " -5.24231557e+00 -5.28633941e+00 -5.33074164e+00 -5.37552437e+00\n",
            " -5.42068969e+00 -5.46623968e+00 -5.51217637e+00 -5.55850179e+00\n",
            " -5.60521790e+00 -5.65232667e+00 -5.69983001e+00 -5.74772983e+00\n",
            " -5.79602796e+00 -5.84472623e+00 -5.89382641e+00 -5.94333024e+00\n",
            " -5.99323941e+00 -6.04355556e+00 -6.09428030e+00 -6.14541518e+00\n",
            " -6.19696170e+00 -6.24892130e+00 -6.30129538e+00 -6.35408528e+00\n",
            " -6.40729226e+00 -6.46091753e+00 -6.51496225e+00 -6.56942749e+00\n",
            " -6.62431425e+00 -6.67962348e+00 -6.73535603e+00 -6.79151269e+00\n",
            " -6.84809415e+00 -6.90510104e+00 -6.96253388e+00 -7.02039312e+00\n",
            " -7.07867910e+00 -7.13739207e+00 -7.19653219e+00 -7.25609950e+00\n",
            " -7.31609395e+00 -7.37651537e+00 -7.43736350e+00 -7.49863793e+00\n",
            " -7.56033814e+00 -7.62246352e+00 -7.68501328e+00 -7.74798655e+00\n",
            " -7.81138228e+00 -7.87519932e+00 -7.93943635e+00 -8.00409193e+00\n",
            " -8.06916443e+00 -8.13465212e+00 -8.20055306e+00 -8.26686517e+00\n",
            " -8.33358621e+00 -8.40071376e+00 -8.46824523e+00 -8.53617782e+00\n",
            " -8.60450860e+00 -8.67323440e+00 -8.74235188e+00 -8.81185751e+00\n",
            " -8.88174753e+00 -8.95201799e+00 -9.02266473e+00 -9.09368336e+00\n",
            " -9.16506929e+00 -9.23681767e+00 -9.30892344e+00 -9.38138131e+00\n",
            " -9.45418574e+00 -9.52733093e+00 -9.60081085e+00 -9.67461920e+00\n",
            " -9.74874942e+00 -9.82319471e+00 -9.89794796e+00 -9.97300181e+00\n",
            " -1.00483486e+01 -1.01239804e+01 -1.01998891e+01 -1.02760660e+01\n",
            " -1.03525024e+01 -1.04291891e+01 -1.05061168e+01 -1.05832756e+01\n",
            " -1.06606557e+01 -1.07382465e+01 -1.08160373e+01 -1.08940172e+01\n",
            " -1.09721749e+01 -1.10504985e+01 -1.11289761e+01 -1.12075953e+01\n",
            " -1.12863433e+01 -1.13652072e+01 -1.14441734e+01 -1.15232283e+01\n",
            " -1.16023576e+01 -1.16815470e+01 -1.17607814e+01 -1.18400458e+01\n",
            " -1.19193245e+01 -1.19986016e+01 -1.20778608e+01 -1.21570854e+01\n",
            " -1.22362583e+01 -1.23153621e+01 -1.23943792e+01 -1.24732912e+01\n",
            " -1.25520797e+01 -1.26307258e+01 -1.27092103e+01 -1.27875136e+01\n",
            " -1.28656157e+01 -1.29434963e+01 -1.30211348e+01 -1.30985100e+01\n",
            " -1.31756008e+01 -1.32523853e+01 -1.33288415e+01 -1.34049472e+01\n",
            " -1.34806796e+01 -1.35560157e+01 -1.36309323e+01 -1.37054056e+01\n",
            " -1.37794120e+01 -1.38529271e+01 -1.39259265e+01 -1.39983856e+01\n",
            " -1.40702793e+01 -1.41415825e+01 -1.42122698e+01 -1.42823154e+01\n",
            " -1.43516935e+01 -1.44203782e+01 -1.44883430e+01 -1.45555618e+01\n",
            " -1.46220078e+01 -1.46876546e+01 -1.47524751e+01 -1.48164427e+01\n",
            " -1.48795302e+01 -1.49417107e+01 -1.50029571e+01 -1.50632422e+01\n",
            " -1.51225389e+01 -1.51808202e+01 -1.52380588e+01 -1.52942277e+01\n",
            " -1.53493001e+01 -1.54032490e+01 -1.54560475e+01 -1.55076692e+01\n",
            " -1.55580875e+01 -1.56072762e+01 -1.56552090e+01 -1.57018603e+01\n",
            " -1.57472043e+01 -1.57912156e+01 -1.58338694e+01 -1.58751407e+01\n",
            " -1.59150053e+01 -1.59534390e+01 -1.59904184e+01 -1.60259201e+01\n",
            " -1.60599214e+01 -1.60924000e+01 -1.61233341e+01 -1.61527022e+01\n",
            " -1.61804837e+01 -1.62066584e+01 -1.62312064e+01 -1.62541089e+01\n",
            " -1.62753474e+01 -1.62949041e+01 -1.63127618e+01 -1.63289041e+01\n",
            " -1.63433153e+01 -1.63559803e+01 -1.63668849e+01 -1.63760156e+01\n",
            " -1.63833595e+01 -1.63889049e+01 -1.63926404e+01 -1.63945559e+01\n",
            " -1.63946417e+01 -1.63928894e+01 -1.63892910e+01 -1.63838397e+01\n",
            " -1.63765296e+01 -1.63673553e+01 -1.63563128e+01 -1.63433988e+01\n",
            " -1.63286107e+01 -1.63119472e+01 -1.62934077e+01 -1.62729925e+01\n",
            " -1.62507029e+01 -1.62265412e+01 -1.62005105e+01 -1.61726149e+01\n",
            " -1.61428595e+01 -1.61112500e+01 -1.60777935e+01 -1.60424976e+01\n",
            " -1.60053710e+01 -1.59664232e+01 -1.59256648e+01 -1.58831070e+01\n",
            " -1.58387621e+01 -1.57926431e+01 -1.57447639e+01 -1.56951392e+01\n",
            " -1.56437845e+01 -1.55907163e+01 -1.55359516e+01 -1.54795083e+01\n",
            " -1.54214050e+01 -1.53616612e+01 -1.53002969e+01 -1.52373329e+01\n",
            " -1.51727906e+01 -1.51066921e+01 -1.50390601e+01 -1.49699179e+01\n",
            " -1.48992895e+01 -1.48271993e+01 -1.47536723e+01 -1.46787341e+01\n",
            " -1.46024105e+01 -1.45247281e+01 -1.44457138e+01 -1.43653948e+01\n",
            " -1.42837989e+01 -1.42009542e+01 -1.41168890e+01 -1.40316321e+01\n",
            " -1.39452124e+01 -1.38576593e+01 -1.37690022e+01 -1.36792708e+01\n",
            " -1.35884951e+01 -1.34967051e+01 -1.34039310e+01 -1.33102032e+01\n",
            " -1.32155520e+01 -1.31200081e+01 -1.30236018e+01 -1.29263638e+01\n",
            " -1.28283246e+01 -1.27295147e+01 -1.26299647e+01 -1.25297050e+01\n",
            " -1.24287659e+01 -1.23271778e+01 -1.22249706e+01 -1.21221744e+01\n",
            " -1.20188190e+01 -1.19149342e+01 -1.18105492e+01 -1.17056934e+01\n",
            " -1.16003959e+01 -1.14946852e+01 -1.13885901e+01 -1.12821388e+01\n",
            " -1.11753591e+01 -1.10682788e+01 -1.09609252e+01 -1.08533254e+01\n",
            " -1.07455061e+01 -1.06374936e+01 -1.05293139e+01 -1.04209927e+01\n",
            " -1.03125552e+01 -1.02040264e+01 -1.00954307e+01 -9.98679227e+00\n",
            " -9.87813477e+00 -9.76948150e+00 -9.66085537e+00 -9.55227882e+00\n",
            " -9.44377391e+00 -9.33536225e+00 -9.22706502e+00 -9.11890299e+00\n",
            " -9.01089645e+00 -8.90306529e+00 -8.79542896e+00 -8.68800643e+00\n",
            " -8.58081627e+00 -8.47387660e+00 -8.36720507e+00 -8.26081891e+00\n",
            " -8.15473492e+00 -8.04896942e+00 -7.94353834e+00 -7.83845713e+00\n",
            " -7.73374082e+00 -7.62940402e+00 -7.52546088e+00 -7.42192515e+00\n",
            " -7.31881013e+00 -7.21612872e+00 -7.11389338e+00 -7.01211618e+00\n",
            " -6.91080876e+00 -6.80998235e+00 -6.70964779e+00 -6.60981551e+00\n",
            " -6.51049557e+00 -6.41169761e+00 -6.31343090e+00 -6.21570434e+00\n",
            " -6.11852643e+00 -6.02190533e+00 -5.92584883e+00 -5.83036434e+00\n",
            " -5.73545894e+00 -5.64113936e+00 -5.54741198e+00 -5.45428286e+00\n",
            " -5.36175770e+00 -5.26984191e+00 -5.17854057e+00 -5.08785843e+00\n",
            " -4.99779995e+00 -4.90836930e+00 -4.81957032e+00 -4.73140660e+00\n",
            " -4.64388142e+00 -4.55699778e+00 -4.47075844e+00 -4.38516587e+00\n",
            " -4.30022227e+00 -4.21592961e+00 -4.13228959e+00 -4.04930369e+00\n",
            " -3.96697313e+00 -3.88529891e+00 -3.80428181e+00 -3.72392238e+00\n",
            " -3.64422095e+00 -3.56517765e+00 -3.48679241e+00 -3.40906495e+00\n",
            " -3.33199480e+00 -3.25558130e+00 -3.17982361e+00 -3.10472072e+00\n",
            " -3.03027142e+00 -2.95647436e+00 -2.88332802e+00 -2.81083071e+00\n",
            " -2.73898059e+00 -2.66777568e+00 -2.59721385e+00 -2.52729283e+00\n",
            " -2.45801020e+00 -2.38936343e+00 -2.32134986e+00 -2.25396669e+00\n",
            " -2.18721103e+00 -2.12107983e+00 -2.05556998e+00 -1.99067824e+00\n",
            " -1.92640125e+00 -1.86273558e+00 -1.79967770e+00 -1.73722396e+00\n",
            " -1.67537066e+00 -1.61411398e+00 -1.55345005e+00 -1.49337491e+00\n",
            " -1.43388451e+00 -1.37497474e+00 -1.31664143e+00 -1.25888034e+00\n",
            " -1.20168715e+00 -1.14505751e+00 -1.08898698e+00 -1.03347110e+00\n",
            " -9.78505327e-01 -9.24085092e-01 -8.70205771e-01 -8.16862696e-01\n",
            " -7.64051159e-01 -7.11766415e-01 -6.60003679e-01 -6.08758134e-01\n",
            " -5.58024932e-01 -5.07799193e-01 -4.58076011e-01 -4.08850453e-01\n",
            " -3.60117564e-01 -3.11872367e-01 -2.64109864e-01 -2.16825039e-01\n",
            " -1.70012863e-01 -1.23668288e-01 -7.77862561e-02 -3.23616982e-02\n",
            "  1.26104651e-02  5.71353210e-02  1.01217963e-01  1.44863490e-01\n",
            "  1.88077004e-01  2.30863609e-01  2.73228412e-01  3.15176517e-01\n",
            "  3.56713027e-01  3.97843045e-01  4.38571666e-01  4.78903983e-01\n",
            "  5.18845082e-01  5.58400040e-01  5.97573930e-01  6.36371811e-01\n",
            "  6.74798735e-01  7.12859743e-01  7.50559863e-01  7.87904111e-01\n",
            "  8.24897489e-01  8.61544985e-01  8.97851573e-01  9.33822208e-01\n",
            "  9.69461833e-01  1.00477537e+00  1.03976773e+00  1.07444379e+00\n",
            "  1.10880843e+00  1.14286649e+00  1.17662281e+00  1.21008219e+00\n",
            "  1.24324943e+00  1.27612928e+00  1.30872649e+00  1.34104579e+00\n",
            "  1.37309187e+00  1.40486941e+00  1.43638307e+00  1.46763747e+00\n",
            "  1.49863722e+00  1.52938690e+00  1.55989107e+00  1.59015425e+00\n",
            "  1.62018096e+00  1.64997568e+00  1.67954286e+00  1.70888693e+00\n",
            "  1.73801230e+00  1.76692334e+00  1.79562440e+00  1.82411982e+00\n",
            "  1.85241389e+00  1.88051088e+00  1.90841503e+00  1.93613058e+00\n",
            "  1.96366170e+00  1.99101257e+00  2.01818732e+00  2.04519006e+00\n",
            "  2.07202488e+00  2.09869583e+00  2.12520696e+00  2.15156225e+00\n",
            "  2.17776568e+00  2.20382121e+00  2.22973276e+00  2.25550422e+00\n",
            "  2.28113946e+00  2.30664232e+00  2.33201662e+00  2.35726615e+00\n",
            "  2.38239466e+00  2.40740590e+00  2.43230357e+00  2.45709136e+00\n",
            "  2.48177292e+00  2.50635188e+00  2.53083185e+00  2.55521641e+00\n",
            "  2.57950910e+00  2.60371345e+00  2.62783298e+00  2.65187114e+00\n",
            "  2.67583140e+00  2.69971718e+00  2.72353187e+00  2.74727887e+00\n",
            "  2.77096151e+00  2.79458312e+00  2.81814702e+00  2.84165647e+00\n",
            "  2.86511472e+00  2.88852502e+00  2.91189057e+00  2.93521455e+00\n",
            "  2.95850011e+00  2.98175041e+00  3.00496854e+00  3.02815761e+00\n",
            "  3.05132067e+00  3.07446079e+00  3.09758097e+00  3.12068422e+00\n",
            "  3.14377351e+00  3.16685182e+00  3.18992206e+00  3.21298717e+00\n",
            "  3.23605001e+00  3.25911348e+00  3.28218042e+00  3.30525366e+00\n",
            "  3.32833600e+00  3.35143025e+00  3.37453916e+00  3.39766548e+00\n",
            "  3.42081195e+00  3.44398126e+00  3.46717611e+00  3.49039917e+00\n",
            "  3.51365309e+00  3.53694049e+00  3.56026399e+00  3.58362618e+00\n",
            "  3.60702963e+00  3.63047690e+00  3.65397052e+00  3.67751302e+00\n",
            "  3.70110688e+00  3.72475460e+00  3.74845863e+00  3.77222142e+00\n",
            "  3.79604540e+00  3.81993298e+00  3.84388654e+00  3.86790846e+00\n",
            "  3.89200111e+00  3.91616681e+00  3.94040790e+00  3.96472667e+00\n",
            "  3.98912542e+00  4.01360641e+00  4.03817191e+00  4.06282413e+00\n",
            "  4.08756532e+00  4.11239767e+00  4.13732336e+00  4.16234457e+00\n",
            "  4.18746345e+00  4.21268214e+00  4.23800276e+00  4.26342740e+00\n",
            "  4.28895816e+00  4.31459711e+00  4.34034630e+00  4.36620777e+00\n",
            "  4.39218353e+00  4.41827560e+00  4.44448595e+00  4.47081656e+00\n",
            "  4.49726938e+00  4.52384634e+00  4.55054937e+00  4.57738037e+00\n",
            "  4.60434122e+00  4.63143379e+00  4.65865993e+00  4.68602148e+00\n",
            "  4.71352025e+00  4.74115803e+00  4.76893661e+00  4.79685776e+00\n",
            "  4.82492321e+00  4.85313468e+00  4.88149390e+00  4.91000255e+00\n",
            "  4.93866229e+00  4.96747478e+00  4.99644166e+00  5.02556452e+00\n",
            "  5.05484498e+00  5.08428460e+00  5.11388493e+00  5.14364750e+00\n",
            "  5.17357384e+00  5.20366543e+00  5.23392373e+00  5.26435021e+00\n",
            "  5.29494628e+00  5.32571336e+00  5.35665281e+00  5.38776601e+00\n",
            "  5.41905428e+00  5.45051895e+00  5.48216129e+00  5.51398258e+00\n",
            "  5.54598405e+00  5.57816692e+00  5.61053237e+00  5.64308157e+00\n",
            "  5.67581565e+00  5.70873572e+00  5.74184287e+00  5.77513814e+00\n",
            "  5.80862257e+00  5.84229714e+00  5.87616282e+00  5.91022055e+00\n",
            "  5.94447124e+00  5.97891575e+00  6.01355493e+00  6.04838959e+00\n",
            "  6.08342051e+00  6.11864842e+00  6.15407403e+00  6.18969802e+00\n",
            "  6.22552102e+00  6.26154364e+00  6.29776643e+00  6.33418993e+00\n",
            "  6.37081461e+00  6.40764093e+00  6.44466929e+00  6.48190005e+00\n",
            "  6.51933355e+00  6.55697005e+00  6.59480981e+00  6.63285300e+00\n",
            "  6.67109979e+00  6.70955027e+00  6.74820449e+00  6.78706246e+00\n",
            "  6.82612415e+00  6.86538945e+00  6.90485824e+00  6.94453030e+00\n",
            "  6.98440540e+00  7.02448323e+00  7.06476345e+00  7.10524563e+00\n",
            "  7.14592932e+00  7.18681398e+00  7.22789904e+00  7.26918385e+00\n",
            "  7.31066770e+00  7.35234983e+00  7.39422940e+00  7.43630553e+00\n",
            "  7.47857726e+00  7.52104355e+00  7.56370332e+00  7.60655540e+00\n",
            "  7.64959855e+00  7.69283148e+00  7.73625281e+00  7.77986109e+00\n",
            "  7.82365479e+00  7.86763232e+00  7.91179199e+00  7.95613205e+00\n",
            "  8.00065066e+00  8.04534591e+00  8.09021579e+00  8.13525824e+00\n",
            "  8.18047107e+00  8.22585203e+00  8.27139880e+00  8.31710893e+00\n",
            "  8.36297992e+00  8.40900915e+00  8.45519392e+00  8.50153145e+00\n",
            "  8.54801884e+00  8.59465310e+00  8.64143117e+00  8.68834987e+00\n",
            "  8.73540591e+00  8.78259591e+00  8.82991641e+00  8.87736382e+00\n",
            "  8.92493445e+00  8.97262451e+00  9.02043011e+00  9.06834725e+00\n",
            "  9.11637182e+00  9.16449959e+00  9.21272623e+00  9.26104731e+00\n",
            "  9.30945827e+00  9.35795444e+00  9.40653106e+00  9.45518321e+00\n",
            "  9.50390590e+00  9.55269400e+00  9.60154227e+00  9.65044534e+00\n",
            "  9.69939774e+00  9.74839387e+00  9.79742801e+00  9.84649434e+00\n",
            "  9.89558688e+00  9.94469957e+00  9.99382621e+00  1.00429605e+01\n",
            "  1.00920959e+01  1.01412260e+01  1.01903440e+01  1.02394432e+01\n",
            "  1.02885165e+01  1.03375570e+01  1.03865575e+01  1.04355106e+01\n",
            "  1.04844091e+01  1.05332452e+01  1.05820115e+01  1.06307000e+01\n",
            "  1.06793030e+01  1.07278124e+01  1.07762200e+01  1.08245177e+01\n",
            "  1.08726970e+01  1.09207495e+01  1.09686667e+01  1.10164397e+01\n",
            "  1.10640598e+01  1.11115181e+01  1.11588055e+01  1.12059129e+01\n",
            "  1.12528311e+01  1.12995508e+01  1.13460624e+01  1.13923565e+01\n",
            "  1.14384235e+01  1.14842535e+01  1.15298369e+01  1.15751637e+01\n",
            "  1.16202238e+01  1.16650074e+01  1.17095041e+01  1.17537038e+01\n",
            "  1.17975962e+01  1.18411708e+01  1.18844174e+01  1.19273254e+01\n",
            "  1.19698842e+01  1.20120833e+01  1.20539119e+01  1.20953594e+01\n",
            "  1.21364150e+01  1.21770680e+01  1.22173075e+01  1.22571227e+01\n",
            "  1.22965027e+01  1.23354365e+01  1.23739134e+01  1.24119224e+01\n",
            "  1.24494525e+01  1.24864929e+01  1.25230326e+01  1.25590607e+01\n",
            "  1.25945664e+01  1.26295387e+01  1.26639668e+01  1.26978399e+01\n",
            "  1.27311472e+01  1.27638781e+01  1.27960218e+01  1.28275677e+01]\n"
          ]
        }
      ]
    },
    {
      "cell_type": "code",
      "source": [
        "print(\"xt[nstep-1] =\",xt[nstep-1])"
      ],
      "metadata": {
        "id": "ayKeYfL563lc",
        "outputId": "0d34566d-b45c-440b-b759-ab51fc4746b5",
        "colab": {
          "base_uri": "https://localhost:8080/"
        }
      },
      "execution_count": 10,
      "outputs": [
        {
          "output_type": "stream",
          "name": "stdout",
          "text": [
            "xt[nstep-1] = 12.82756772629292\n"
          ]
        }
      ]
    },
    {
      "cell_type": "code",
      "source": [
        "print(\"xt[nstep-1],yt[nstep-1],zt[nstep-1] =\",xt[nstep-1],yt[nstep-1],zt[nstep-1])"
      ],
      "metadata": {
        "id": "VWqIRCd05eMk",
        "outputId": "7fc0dcab-88b5-4ca0-ae2c-2522b9553fd8",
        "colab": {
          "base_uri": "https://localhost:8080/"
        }
      },
      "execution_count": 11,
      "outputs": [
        {
          "output_type": "stream",
          "name": "stdout",
          "text": [
            "xt[nstep-1],yt[nstep-1],zt[nstep-1] = 12.82756772629292 15.951742608672223 30.306655456217776\n"
          ]
        }
      ]
    },
    {
      "cell_type": "markdown",
      "source": [
        "# 得られたデータをmatplotlib（先にimportしてある）を使って可視化する。\n",
        "- 始点が赤点で示されるはず\n",
        "- [ToDo 3]終点を青点で示すように改変してみよう"
      ],
      "metadata": {
        "id": "ZXZzLN6y84q-"
      }
    },
    {
      "cell_type": "code",
      "source": [
        "# make 3D Plot\n",
        "fig= plt.figure(figsize=(6, 6), dpi=100)\n",
        "ax = fig.gca(projection='3d')\n",
        "# 描画のカスタマイズ\n",
        "ax.set_title(\"Lorenz63\")\n",
        "ax.set_xlabel(\"X\"); ax.set_ylabel(\"Y\"); ax.set_zlabel(\"Z\")\n",
        "ax.set_xlim(-25, 25); ax.set_ylim(-25, 25); ax.set_zlim(  0, 50)\n",
        "\n",
        "# show 3D trajectory figure\n",
        "ax.plot(xt[:], yt[:], zt[:], lw=1.0)\n",
        "ax.scatter(xt[0],yt[0],zt[0],color= 'red') #plot the initial position\n",
        "plt.show()\n",
        "fig.savefig(\"trajectory.png\")"
      ],
      "metadata": {
        "id": "O2cToxn072_K",
        "outputId": "2eba3009-fa82-4774-dd49-d1ed68b32841",
        "colab": {
          "base_uri": "https://localhost:8080/",
          "height": 489
        }
      },
      "execution_count": 12,
      "outputs": [
        {
          "output_type": "display_data",
          "data": {
            "text/plain": [
              "<Figure size 600x600 with 1 Axes>"
            ],
            "image/png": "[encoded data removed]"
          },
          "metadata": {
            "needs_background": "light"
          }
        }
      ]
    },
    {
      "cell_type": "markdown",
      "source": [
        "# ToDoリスト\n",
        "- [ ] ToDo 1　始点を変えてみよう\n",
        "- [ ] ToDo 2　計算時間をを1にしてみよう\n",
        "- [ ] ToDo 3　終点を青点で示すように改変してみよう\n"
      ],
      "metadata": {
        "id": "y1yM5O06ZJeM"
      }
    }
  ],
  "metadata": {
    "kernelspec": {
      "display_name": "Python 3",
      "language": "python",
      "name": "python3"
    },
    "language_info": {
      "codemirror_mode": {
        "name": "ipython",
        "version": 3
      },
      "file_extension": ".py",
      "mimetype": "text/x-python",
      "name": "python",
      "nbconvert_exporter": "python",
      "pygments_lexer": "ipython3",
      "version": "3.8.3"
    },
    "colab": {
      "name": "lorenz63_3Dplot.ipynb",
      "provenance": [],
      "collapsed_sections": [],
      "include_colab_link": true
    }
  },
  "nbformat": 4,
  "nbformat_minor": 0
}